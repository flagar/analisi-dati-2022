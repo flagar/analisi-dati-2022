{
 "cells": [
  {
   "cell_type": "markdown",
   "metadata": {},
   "source": [
    "# Regressione lineare\n",
    "\n",
    "L'applicazione del metodo del minimo $\\chi^2$ è nel caso di una funzione $f$ lineare:\n",
    "\n",
    "$y=f(x;a,b) = a+b\\,x$\n",
    "\n",
    "dobbiamo minimizzare:\n",
    "\n",
    "$\\displaystyle \\chi^2(a,b) = -2\\log p = \\sum_{i=1}^N\\frac{(y_i-a-b\\,x_i)^2}{\\sigma_i^2} + \\text{const.}$\n",
    "\n",
    "L'equazione sopra è vera *a meno di un termine costante* che non contribuisce alla minimizzazione."
   ]
  },
  {
   "cell_type": "markdown",
   "metadata": {},
   "source": [
    "## Pesi\n",
    "\n",
    "Conviene definire i *persi* $w_i$:\n",
    "\n",
    "$\\displaystyle w_i = \\frac{1/\\sigma_i^2}{1/\\sigma^2}$\n",
    "\n",
    "dove a sua volta $\\sigma$ è definito da:\n",
    "\n",
    "$\\displaystyle \\frac{1}{\\sigma^2} = \\sum_{i=1}^N\\frac{1}{\\sigma_i^2}$\n",
    "\n",
    "Questa scelta garantisce che $\\sum_{i=1}^Nw_i=1$."
   ]
  },
  {
   "cell_type": "markdown",
   "metadata": {},
   "source": [
    "## Minimizzazione del $\\chi^2$\n",
    "\n",
    "Possiamo quindi scrivere:\n",
    "\n",
    "$\\displaystyle \\chi^2(a, b) = \\frac{1}{\\sigma^2}\\sum_{i=1}^Nw_i(y_i-a-b\\,x_i)^2$"
   ]
  },
  {
   "cell_type": "markdown",
   "metadata": {},
   "source": [
    "Si può trovare il minimo di $\\chi^2(a,b)$ in maniera analitica imponendo:\n",
    "\n",
    "$\\displaystyle \\frac{\\partial \\chi^2(a,b)}{\\partial a} = 0$\n",
    "\n",
    "$\\displaystyle \\frac{\\partial \\chi^2(a,b)}{\\partial b} = 0$"
   ]
  },
  {
   "cell_type": "markdown",
   "metadata": {},
   "source": [
    "Le derivate si possono scrivere come:\n",
    "\n",
    "$\\displaystyle \\frac{\\partial \\chi^2(a,b)}{\\partial a} = \\frac{1}{\\sigma^2}\\sum_{i=1}^Nw_i\\frac{\\partial}{\\partial a}(y_i-a-b\\,x_i)^2=\n",
    "-2 \\frac{1}{\\sigma^2}\\sum_{i=1}^Nw_i(y_i-a-b\\,x_i) = \n",
    "\\frac{2}{\\sigma^2}\\left(-\\sum_{i=1}^Nw_i y_i+a+b\\sum_{i=1}^Nw_ix_i\\right)\n",
    "$\n",
    "\n",
    "$\\displaystyle \\frac{\\partial \\chi^2(a,b)}{\\partial b} = \\frac{1}{\\sigma^2}\\sum_{i=1}^N w_i\\frac{\\partial}{\\partial b}(y_i-a-b\\,x_i)^2=\n",
    "-2 \\frac{1}{\\sigma^2}\\sum_{i=1}^Nw_i(y_i-a-b\\,x_i)x_i = \n",
    "\\frac{2}{\\sigma^2}\\left(-\\sum_{i=1}^Nw_i x_i y_i + a\\sum_{i=1}^Nw_ix_i+b\\sum_{i=1}^Nw_ix_i^2\\right)\n",
    "$"
   ]
  },
  {
   "cell_type": "markdown",
   "metadata": {},
   "source": [
    "Possiamo introdurre le *medie pesate* per le quantità $\\alpha_i$, che di volta in volta potranno essere $x_i$, $y_i$, $x_i y_i$, $x_i^2$, ecc.:\n",
    "\n",
    "$\\displaystyle \\left<\\alpha\\right> = \\sum_{i=1}^Nw_i\\alpha_i$"
   ]
  },
  {
   "cell_type": "markdown",
   "metadata": {},
   "source": [
    "Riscriviamo quindi:\n",
    "\n",
    "$\\displaystyle \\frac{\\partial \\chi^2(a,b)}{\\partial a} =\n",
    "\\frac{2}{\\sigma^2}\\left(-\\left<y\\right>+a+b\\left<x\\right>\\right)\n",
    "$\n",
    "\n",
    "$\\displaystyle \\frac{\\partial \\chi^2(a,b)}{\\partial b} = \n",
    "\\frac{2}{\\sigma^2}\\left(-\\left<x y\\right> + a\\left<x\\right>+b\\left<x^2\\right>\\right)\n",
    "$"
   ]
  },
  {
   "cell_type": "markdown",
   "metadata": {},
   "source": [
    "Uguagliando le derivate a zero, si ottiene quindi:\n",
    "\n",
    "$\\displaystyle \\left<y\\right> = a+b\\left<x\\right>$\n",
    "\n",
    "$\\displaystyle \\left<x y\\right> = a\\left<x\\right>  + b\\left<x^2\\right>$"
   ]
  },
  {
   "cell_type": "markdown",
   "metadata": {},
   "source": [
    "In forma matriciale:\n",
    "\n",
    "\n",
    "$\\displaystyle\n",
    "\\left(\\begin{array}{c}\\left<y\\right>\\\\\\left<xy\\right>\\end{array}\n",
    "\\right)=\n",
    "\\left(\\begin{array}{cc} \n",
    "1 & \\left<x\\right> \\\\\n",
    "\\left<x\\right>  & \\left<x^2\\right> \n",
    "\\end{array}\n",
    "\\right)\n",
    "\\left(\\begin{array}{c} a\\\\b\\end{array}\n",
    "\\right)\n",
    "$"
   ]
  },
  {
   "cell_type": "markdown",
   "metadata": {},
   "source": [
    "L'inversione dell'equazione matriciale dà:\n",
    "\n",
    "$\\displaystyle\n",
    "\\left(\\begin{array}{c} a\\\\b\\end{array}\n",
    "\\right)\n",
    "=\n",
    "\\left(\\begin{array}{cc} \n",
    "1 & \\left<x\\right> \\\\\n",
    "\\left<x\\right>  & \\left<x^2\\right> \n",
    "\\end{array}\n",
    "\\right)^{-1}\n",
    "\\left(\\begin{array}{c}\\left<y\\right>\\\\\\left<xy\\right>\\end{array}\n",
    "\\right)\n",
    "$"
   ]
  },
  {
   "cell_type": "markdown",
   "metadata": {},
   "source": [
    "Per calcolare l'inversione consideriamo che:\n",
    "\n",
    "$\\mathrm{det}\\left[C^{-1}\\right] = \\left<x^2\\right> - \\left<x\\right>^2 = \n",
    "\\left<(x - \\left<x\\right>)^2\\right> =\n",
    "\\mathbb{V}\\mathrm{ar}[x]$\n",
    "\n",
    "$\\displaystyle\\left(\\begin{array}{cc} \n",
    "1 & \\left<x\\right> \\\\\n",
    "\\left<x\\right>  & \\left<x^2\\right> \n",
    "\\end{array}\n",
    "\\right)^{-1}\n",
    "=\\frac{1}{\\mathbb{V}\\mathrm{ar}[x]}\n",
    "\\left(\n",
    "\\begin{array}{cc}\n",
    "\\left<x^2\\right> & -\\left<x\\right> \\\\\n",
    "-\\left<x\\right> & 1\n",
    "\\end{array}\n",
    "\\right)\n",
    "$"
   ]
  },
  {
   "cell_type": "markdown",
   "metadata": {},
   "source": [
    "Dopo qualche passaggio:\n",
    "\n",
    "$\\displaystyle b = \\hat{b} = \n",
    "\\frac{\\left<x y\\right>-\\left<x\\right>\\left<y\\right>}{\\mathbb{V}\\mathrm{ar}[x]} =\n",
    "\\frac{\\mathbb{C}\\mathrm{ov}(x, y)}{\\mathbb{V}\\mathrm{ar}[x]}$\n",
    "\n",
    "$a = \\hat{a} = \\left<y\\right> -\\hat{b}\\left<x\\right>$"
   ]
  },
  {
   "cell_type": "markdown",
   "metadata": {},
   "source": [
    "Formule equivalenti sono:\n",
    "\n",
    "$\\displaystyle\\hat{b} = \\frac{\\left<(x-\\left<x\\right>)(y-\\left<y\\right>)\\right>}{\\left<(x-\\left<x\\right>)^2\\right>} =\n",
    "\\frac{\\left<x y\\right>-\\left<x\\right>\\left<y\\right>}{\\left<x^2\\right>-\\left<x\\right>^2} =\n",
    "\\frac{\\mathbb{C}\\mathrm{ov}(x, y)}{\\sigma_x^2}\n",
    "$\n",
    "\n",
    "$\\displaystyle\\hat{a} = \\left<y\\right> - \\hat{b}\\left<x\\right>$"
   ]
  },
  {
   "cell_type": "markdown",
   "metadata": {},
   "source": [
    "## Stima degli errori\n",
    "\n",
    "Gli errori si possono stimare come:\n",
    "\n",
    "$\\displaystyle  \\frac{1}{\\sigma_{\\hat{a}}^2} = -\\frac{\\partial^2 \\log L}{\\partial a^2} = \\frac{1}{2}\\frac{\\partial^2 \\chi^2}{\\partial a^2}$\n",
    "\n",
    "$\\displaystyle  \\frac{1}{\\sigma_{\\hat{b}}^2} = -\\frac{\\partial^2 \\log L}{\\partial b^2} = \\frac{1}{2}\\frac{\\partial^2 \\chi^2}{\\partial b^2}$\n",
    "\n",
    "Questi sono gli elementi diagonali della matrice di covarianza inversa, che ha come elemento non diagonale:\n",
    "\n",
    "$\\displaystyle  C_{ab}^{-1} = -\\frac{\\partial^2 \\log L}{\\partial a\\,\\partial b} = \\frac{1}{2}\\frac{\\partial^2 \\chi^2}{\\partial a\\,\\partial b}$"
   ]
  },
  {
   "cell_type": "markdown",
   "metadata": {},
   "source": [
    "Il calcolo delle derivate seconde si ottiene derivando le derivate prime, riportate di seguto per comodità:\n",
    "\n",
    "$\\displaystyle \\frac{\\partial \\chi^2(a,b)}{\\partial a} =\n",
    "\\frac{2}{\\sigma^2}\\left(\\left<y\\right>+a+b\\left<x\\right>\\right)\n",
    "$\n",
    "\n",
    "$\\displaystyle \\frac{\\partial \\chi^2(a,b)}{\\partial b} = \n",
    "\\frac{2}{\\sigma^2}\\left(-\\left<x y\\right> + a\\left<x\\right>+b\\left<x^2\\right>\\right)\n",
    "$"
   ]
  },
  {
   "cell_type": "markdown",
   "metadata": {},
   "source": [
    "Le derivate seconde sono quindi:\n",
    "\n",
    "$\\displaystyle \\frac{\\partial^2 \\chi^2(a,b)}{\\partial a^2} =\n",
    "\\frac{2}{\\sigma^2}\n",
    "$\n",
    "\n",
    "$\\displaystyle \\frac{\\partial^2 \\chi^2(a,b)}{\\partial b^2} = \n",
    "\\frac{2 \\left<x^2\\right>}{\\sigma^2}\n",
    "$\n",
    "\n",
    "$\\displaystyle \\frac{\\partial^2 \\chi^2(a,b)}{\\partial a\\,\\partial b} =\n",
    "\\frac{2 \\left<x\\right>}{\\sigma^2}\n",
    "$"
   ]
  },
  {
   "cell_type": "markdown",
   "metadata": {},
   "source": [
    "La matrice *inversa* di covarianza è quindi, ricordando il fattore $1/2$ davanti alla derivata seconda del $\\chi^2$:\n",
    "\n",
    "$\\displaystyle C^{-1} = \\frac{1}{\\sigma^2}\\left(\n",
    "\\begin{array}{cc}\n",
    "1 & \\left<x\\right> \\\\\n",
    "\\left<x\\right> & \\left<x^2\\right>\n",
    "\\end{array}\n",
    "\\right)$"
   ]
  },
  {
   "cell_type": "markdown",
   "metadata": {},
   "source": [
    "L'inversione è simile a quanto abbiamo già calcolato in precedenza. La matrice di covarianza è quindi:\n",
    "\n",
    "$\\displaystyle C =\\frac{\\sigma^2}{\\sigma_x^2}\\left(\n",
    "\\begin{array}{cc}\n",
    "\\left<x^2\\right> & - \\left<x\\right> \\\\\n",
    "- \\left<x\\right> & 1\n",
    "\\end{array}\n",
    "\\right)\n",
    "$"
   ]
  },
  {
   "cell_type": "markdown",
   "metadata": {},
   "source": [
    "Procedendo col calcolo si ottiene:\n",
    "\n",
    "$\\displaystyle \\sigma_{\\hat{b}}^2 = \\frac{\\sigma^2}{\\sigma_x^2}$\n",
    "\n",
    "$\\displaystyle \\sigma_{\\hat{a}}^2 = \\frac{\\sigma^2}{\\sigma_x^2} \\left<x^2\\right> = \n",
    "\\sigma_{\\hat{b}}^2 \\left<x^2\\right>\n",
    "$\n",
    "\n",
    "\n",
    "$\\displaystyle \\mathbb{C}\\mathrm{ov}(\\hat{a}, \\hat{b}) = - \\frac{\\sigma^2}{\\sigma_x^2} \\left<x\\right> = \n",
    "- \\sigma_{\\hat{b}}^2\\left<x\\right>\n",
    "$"
   ]
  },
  {
   "cell_type": "markdown",
   "metadata": {},
   "source": [
    "Al posto di $\\sigma^2$ definito in precedenza, si preferisce stimare l'errore medio in base alle effettive deviazioni dei punti sperimentali dalle retta ottenuta dal fit. Si usa quindi, nelle formule precedenti, per gli errori su $\\hat{a}$ e $\\hat{b}$:\n",
    "\n",
    "$\\displaystyle \\hat{\\sigma}^2 = \\frac{1}{N-2}\\sum_{i=1}^Nw_i\\left(y_i -\\hat{y}_i\\right)^2$\n",
    "\n",
    "Dove abbiamo definito $\\hat{y}_i = f(x_i; \\hat{a}, \\hat{b}) = \\hat{a}+\\hat{b}\\, x$, ossia i valori delle $y$ sulla curva interpolata.\n",
    "\n",
    "L'uso di $N-2$ al demonimatore tiene conto del numero di gradi di libertà determinati dal fit, ossia le stime dei parametri $a$ e $b$. In questo modo si evita un possibile **bias**."
   ]
  },
  {
   "cell_type": "markdown",
   "metadata": {},
   "source": [
    "I valori $\\varepsilon_i = y_i -\\hat{y}_i$ prendono il nome di **residui**.\n",
    "\n",
    "Possiamo scrivere quindi:\n",
    "\n",
    "$\\displaystyle \\hat{\\sigma}^2 = \\frac{1}{N-2}\\left<\\varepsilon^2\\right>$"
   ]
  },
  {
   "cell_type": "markdown",
   "metadata": {},
   "source": [
    "<span style=\"color:blue\">Assumento pesi tutti uguali, l'uso di $\\hat{\\sigma}$ permette il calcolo dell'errore sui parametri $\\hat{a}$ e $\\hat{b}$ anche quandi l'errore sulle singole misure $y_i$ non sono noti.</span>"
   ]
  },
  {
   "cell_type": "markdown",
   "metadata": {},
   "source": [
    "<span style=\"color:blue\">Nota: questo calcolo dell'errore è il default nella funzione ```curve_fit``` che già abbiamo usato. Per usare gli errori $\\sigma_i$ anziché l'errore quadratico medio, bisogna abilitare l'opzione ```absolute_sigma```, che di default è ```False```."
   ]
  },
  {
   "cell_type": "markdown",
   "metadata": {},
   "source": [
    "## Il Coefficiente di determinazione $R^2$\n",
    "\n",
    "È poco usato in fisica, ma si trova in diverse liberie il **coefficiente di determinazione** $R^2$ che è definito come:\n",
    "\n",
    "$\\displaystyle R^2 = \\frac{\\sum_{i=1}^N(\\hat{y}_i-\\left<y\\right>)^2}{\\sum_{i=1}^N(y_i-\\left<y\\right>)^2}$\n",
    "\n",
    "$R^2$ varia tra 0 e 1 e talvolta è espresso come percentuale.\n",
    "\n",
    "$R^2=1$ corrisponde a punti totalmente allineati sulla curva (deve essere $\\hat{y}_i = y_i$), mentre $R^2=0$ corrisponde ad una retta perfettamente orizzontale, per cui la curva stimata prevede che $y$ sia insensibile ad $x$."
   ]
  },
  {
   "cell_type": "code",
   "execution_count": 1,
   "metadata": {},
   "outputs": [],
   "source": [
    "import math\n",
    "import numpy as np\n",
    "import matplotlib.pyplot as plt\n",
    "import pandas as pd\n",
    "from scipy import stats"
   ]
  },
  {
   "cell_type": "markdown",
   "metadata": {},
   "source": [
    "Generiamo una sequenza di punti allineati lungo una linea con dispersione verticale generata in modo gaussiano"
   ]
  },
  {
   "cell_type": "code",
   "execution_count": 2,
   "metadata": {},
   "outputs": [
    {
     "data": {
      "image/png": "[encoded data removed]",
      "text/plain": [
       "<Figure size 800x600 with 1 Axes>"
      ]
     },
     "metadata": {
      "needs_background": "light"
     },
     "output_type": "display_data"
    }
   ],
   "source": [
    "n_points = 20\n",
    "x_min = 0.0; x_max = 10.0\n",
    "sigma = 1.5\n",
    "a0 = 3.0; b0 = 1.5\n",
    "x = np.sort(np.random.uniform(x_min, x_max, size=n_points))\n",
    "y = np.random.normal(a0 + x*b0, sigma)\n",
    "plt.figure(figsize=(8,6), dpi=100)\n",
    "plt.errorbar(x, y, yerr=sigma, fmt='o')\n",
    "plt.xlabel('x')\n",
    "plt.ylabel('y')\n",
    "plt.show()"
   ]
  },
  {
   "cell_type": "markdown",
   "metadata": {},
   "source": [
    "Calcolo della media di $x$ e $y$ e dei vettori con le deviazioni"
   ]
  },
  {
   "cell_type": "code",
   "execution_count": 3,
   "metadata": {},
   "outputs": [],
   "source": [
    "x_mean, y_mean = x.mean(), y.mean()\n",
    "dx, dy = x - x_mean, y - y_mean\n",
    "dxdy = dx*dy; dx2 = dx*dx"
   ]
  },
  {
   "cell_type": "markdown",
   "metadata": {},
   "source": [
    "Calcolo dei coefficienti del fit"
   ]
  },
  {
   "cell_type": "code",
   "execution_count": 5,
   "metadata": {},
   "outputs": [
    {
     "name": "stdout",
     "output_type": "stream",
     "text": [
      "a, b =  3.327261756096725 1.4523511455447047\n"
     ]
    }
   ],
   "source": [
    "dxdy_mean, dx2_mean = dxdy.mean(), dx2.mean()\n",
    "b_fit = dxdy_mean/dx2_mean\n",
    "a_fit = y_mean - b_fit*x_mean\n",
    "print(\"a, b = \", a_fit, b_fit)\n",
    "def fit_line(x):\n",
    "    return a_fit + x*b_fit"
   ]
  },
  {
   "cell_type": "code",
   "execution_count": 6,
   "metadata": {},
   "outputs": [
    {
     "data": {
      "image/png": "[encoded data removed]",
      "text/plain": [
       "<Figure size 800x600 with 1 Axes>"
      ]
     },
     "metadata": {
      "needs_background": "light"
     },
     "output_type": "display_data"
    }
   ],
   "source": [
    "plt.figure(figsize=(8,6), dpi=100)\n",
    "plt.errorbar(x, y, yerr=sigma, fmt='o')\n",
    "plt.plot([x_min,x_max],[fit_line(x_min), fit_line(x_max)])\n",
    "plt.xlabel('x')\n",
    "plt.ylabel('y')\n",
    "plt.show()"
   ]
  },
  {
   "cell_type": "markdown",
   "metadata": {},
   "source": [
    "Calcolo dei valori interpolati e dei residui"
   ]
  },
  {
   "cell_type": "code",
   "execution_count": 7,
   "metadata": {},
   "outputs": [],
   "source": [
    "y_fit = fit_line(x)\n",
    "res = y - y_fit\n",
    "res2 = res*res"
   ]
  },
  {
   "cell_type": "markdown",
   "metadata": {},
   "source": [
    "Calcoliamo la stima degli errori. Il significato del $p$-value sarà definito nelle prossime lezioni."
   ]
  },
  {
   "cell_type": "code",
   "execution_count": 8,
   "metadata": {},
   "outputs": [
    {
     "name": "stdout",
     "output_type": "stream",
     "text": [
      "b = 1.452 ± 0.096\n",
      "a = 3.327 ± 0.594\n",
      "cov(a,b) = -0.04721119\n",
      "chi^2 = 17.872/18 ndof\n",
      "p = 0.464\n"
     ]
    }
   ],
   "source": [
    "x2 = x*x\n",
    "x2_mean = x2.mean()\n",
    "res2_mean = res2.mean()\n",
    "chi2 = res2_mean*n_points/(sigma*sigma)\n",
    "ndof = n_points-2\n",
    "var_b = res2_mean/dx2_mean/(n_points-2)\n",
    "var_a = var_b*x2_mean\n",
    "cov_ab = -var_b*x_mean\n",
    "err_b = math.sqrt(var_b)\n",
    "err_a = math.sqrt(var_a)\n",
    "print('b = {:.3f} ± {:.3f}'.format(b_fit, err_b))\n",
    "print('a = {:.3f} ± {:.3f}'.format(a_fit, err_a))\n",
    "print('cov(a,b) = {:.8f}'.format(cov_ab))\n",
    "print('chi^2 = {:.3f}/{:d} ndof'.format(chi2, ndof))\n",
    "print('p = {:.3f}'.format(1 - stats.chi2.cdf(chi2, ndof)))"
   ]
  },
  {
   "cell_type": "markdown",
   "metadata": {},
   "source": [
    "Confrontiamo con [```scipy.stats.linregres```](https://docs.scipy.org/doc/scipy/reference/generated/scipy.stats.linregress.html).\n",
    "\n",
    "<span style=\"color: blue\">Da notare che il $p$-value è relativo all'ipotesi che la pendenza sia zero, non è relativo al $\\chi^2$ del fit. Non va quindi confrontato con il precedente. Il significato del $p$-value sarà più chiaro nelle prossime lezioni.</span>\n",
    "\n",
    "<span style=\"color: red\">La funzione non implementa fit pesati.</span>"
   ]
  },
  {
   "cell_type": "code",
   "execution_count": 9,
   "metadata": {},
   "outputs": [
    {
     "name": "stdout",
     "output_type": "stream",
     "text": [
      "b =  1.4523511455447045\n",
      "a =  3.3272617560967257\n",
      "err =  0.09617082916593554\n",
      "R^2 =  0.9268482692137117\n",
      "p =  1.1510472587777654e-11\n"
     ]
    }
   ],
   "source": [
    "slope, intercept, r_value, p_value, std_err = stats.linregress(x, y)\n",
    "print('b = ', slope)\n",
    "print('a = ', intercept)\n",
    "print('err = ', std_err)\n",
    "print('R^2 = ', r_value*r_value)\n",
    "print('p = ', p_value)"
   ]
  },
  {
   "cell_type": "markdown",
   "metadata": {},
   "source": [
    "Propagazione degli errori su $a$ e $b$, considerando il coefficiente di covarianza:\n",
    "\n",
    "$y = a + b x$\n",
    "\n",
    "$\\sigma_y^2 = \\sigma_a^2 + 2x\\,\\mathrm{cov}(a,b) + x^2\\sigma_b^2$"
   ]
  },
  {
   "cell_type": "code",
   "execution_count": 11,
   "metadata": {},
   "outputs": [],
   "source": [
    "y_err_fit = np.sqrt(var_a + 2*x*cov_ab + x2*var_b)\n",
    "y_lo_fit = y_fit - y_err_fit\n",
    "y_hi_fit = y_fit + y_err_fit"
   ]
  },
  {
   "cell_type": "code",
   "execution_count": 12,
   "metadata": {},
   "outputs": [
    {
     "data": {
      "image/png": "[encoded data removed]",
      "text/plain": [
       "<Figure size 800x600 with 1 Axes>"
      ]
     },
     "metadata": {
      "needs_background": "light"
     },
     "output_type": "display_data"
    }
   ],
   "source": [
    "plt.figure(figsize=(8,6), dpi=100)\n",
    "plt.fill_between(x, y_lo_fit, y_hi_fit, facecolor='orange')\n",
    "plt.errorbar(x, y, yerr=sigma, fmt='o')\n",
    "plt.plot([x_min,x_max],[fit_line(x_min), fit_line(x_max)], color='darkred')\n",
    "plt.xlabel('x')\n",
    "plt.ylabel('y')\n",
    "plt.show()"
   ]
  },
  {
   "cell_type": "markdown",
   "metadata": {},
   "source": [
    "Possiamo costruzione un ```DataFrame``` pandas per visualizzazione della tabella e salvarlo in formato csv per poterlo importare in un foglio di calcolo."
   ]
  },
  {
   "cell_type": "code",
   "execution_count": 13,
   "metadata": {},
   "outputs": [
    {
     "data": {
      "text/html": [
       "<div>\n",
       "<style scoped>\n",
       "    .dataframe tbody tr th:only-of-type {\n",
       "        vertical-align: middle;\n",
       "    }\n",
       "\n",
       "    .dataframe tbody tr th {\n",
       "        vertical-align: top;\n",
       "    }\n",
       "\n",
       "    .dataframe thead th {\n",
       "        text-align: right;\n",
       "    }\n",
       "</style>\n",
       "<table border=\"1\" class=\"dataframe\">\n",
       "  <thead>\n",
       "    <tr style=\"text-align: right;\">\n",
       "      <th></th>\n",
       "      <th>x</th>\n",
       "      <th>y</th>\n",
       "      <th>dx</th>\n",
       "      <th>dy</th>\n",
       "      <th>x2</th>\n",
       "      <th>dxdy</th>\n",
       "      <th>dx2</th>\n",
       "      <th>y_fit</th>\n",
       "      <th>res</th>\n",
       "      <th>res2</th>\n",
       "      <th>y_err_fit</th>\n",
       "      <th>y_lo_fit</th>\n",
       "      <th>y_hi_fit</th>\n",
       "    </tr>\n",
       "  </thead>\n",
       "  <tbody>\n",
       "    <tr>\n",
       "      <th>0</th>\n",
       "      <td>0.008785</td>\n",
       "      <td>3.378187</td>\n",
       "      <td>-5.095774</td>\n",
       "      <td>-7.362688</td>\n",
       "      <td>0.000077</td>\n",
       "      <td>37.518591</td>\n",
       "      <td>25.966911</td>\n",
       "      <td>3.340021</td>\n",
       "      <td>0.038165</td>\n",
       "      <td>0.001457</td>\n",
       "      <td>0.593183</td>\n",
       "      <td>2.746839</td>\n",
       "      <td>3.933204</td>\n",
       "    </tr>\n",
       "    <tr>\n",
       "      <th>1</th>\n",
       "      <td>0.115240</td>\n",
       "      <td>3.503783</td>\n",
       "      <td>-4.989319</td>\n",
       "      <td>-7.237091</td>\n",
       "      <td>0.013280</td>\n",
       "      <td>36.108159</td>\n",
       "      <td>24.893307</td>\n",
       "      <td>3.494631</td>\n",
       "      <td>0.009152</td>\n",
       "      <td>0.000084</td>\n",
       "      <td>0.584753</td>\n",
       "      <td>2.909878</td>\n",
       "      <td>4.079384</td>\n",
       "    </tr>\n",
       "    <tr>\n",
       "      <th>2</th>\n",
       "      <td>0.808211</td>\n",
       "      <td>5.681930</td>\n",
       "      <td>-4.296348</td>\n",
       "      <td>-5.058944</td>\n",
       "      <td>0.653206</td>\n",
       "      <td>21.734983</td>\n",
       "      <td>18.458605</td>\n",
       "      <td>4.501069</td>\n",
       "      <td>1.180862</td>\n",
       "      <td>1.394434</td>\n",
       "      <td>0.531434</td>\n",
       "      <td>3.969634</td>\n",
       "      <td>5.032503</td>\n",
       "    </tr>\n",
       "    <tr>\n",
       "      <th>3</th>\n",
       "      <td>1.461673</td>\n",
       "      <td>5.368359</td>\n",
       "      <td>-3.642887</td>\n",
       "      <td>-5.372515</td>\n",
       "      <td>2.136487</td>\n",
       "      <td>19.571463</td>\n",
       "      <td>13.270623</td>\n",
       "      <td>5.450124</td>\n",
       "      <td>-0.081764</td>\n",
       "      <td>0.006685</td>\n",
       "      <td>0.484190</td>\n",
       "      <td>4.965934</td>\n",
       "      <td>5.934313</td>\n",
       "    </tr>\n",
       "    <tr>\n",
       "      <th>4</th>\n",
       "      <td>1.614802</td>\n",
       "      <td>5.673997</td>\n",
       "      <td>-3.489757</td>\n",
       "      <td>-5.066877</td>\n",
       "      <td>2.607585</td>\n",
       "      <td>17.682173</td>\n",
       "      <td>12.178406</td>\n",
       "      <td>5.672521</td>\n",
       "      <td>0.001476</td>\n",
       "      <td>0.000002</td>\n",
       "      <td>0.473643</td>\n",
       "      <td>5.198878</td>\n",
       "      <td>6.146165</td>\n",
       "    </tr>\n",
       "    <tr>\n",
       "      <th>5</th>\n",
       "      <td>2.323838</td>\n",
       "      <td>10.162623</td>\n",
       "      <td>-2.780721</td>\n",
       "      <td>-0.578251</td>\n",
       "      <td>5.400222</td>\n",
       "      <td>1.607955</td>\n",
       "      <td>7.732412</td>\n",
       "      <td>6.702290</td>\n",
       "      <td>3.460333</td>\n",
       "      <td>11.973904</td>\n",
       "      <td>0.428040</td>\n",
       "      <td>6.274251</td>\n",
       "      <td>7.130330</td>\n",
       "    </tr>\n",
       "    <tr>\n",
       "      <th>6</th>\n",
       "      <td>2.574891</td>\n",
       "      <td>5.570745</td>\n",
       "      <td>-2.529669</td>\n",
       "      <td>-5.170129</td>\n",
       "      <td>6.630062</td>\n",
       "      <td>13.078713</td>\n",
       "      <td>6.399223</td>\n",
       "      <td>7.066907</td>\n",
       "      <td>-1.496162</td>\n",
       "      <td>2.238501</td>\n",
       "      <td>0.413385</td>\n",
       "      <td>6.653522</td>\n",
       "      <td>7.480292</td>\n",
       "    </tr>\n",
       "    <tr>\n",
       "      <th>7</th>\n",
       "      <td>3.655265</td>\n",
       "      <td>6.319022</td>\n",
       "      <td>-1.449295</td>\n",
       "      <td>-4.421853</td>\n",
       "      <td>13.360961</td>\n",
       "      <td>6.408567</td>\n",
       "      <td>2.100455</td>\n",
       "      <td>8.635990</td>\n",
       "      <td>-2.316968</td>\n",
       "      <td>5.368341</td>\n",
       "      <td>0.362117</td>\n",
       "      <td>8.273873</td>\n",
       "      <td>8.998107</td>\n",
       "    </tr>\n",
       "    <tr>\n",
       "      <th>8</th>\n",
       "      <td>4.076388</td>\n",
       "      <td>10.070999</td>\n",
       "      <td>-1.028171</td>\n",
       "      <td>-0.669875</td>\n",
       "      <td>16.616938</td>\n",
       "      <td>0.688746</td>\n",
       "      <td>1.057137</td>\n",
       "      <td>9.247608</td>\n",
       "      <td>0.823391</td>\n",
       "      <td>0.677973</td>\n",
       "      <td>0.348539</td>\n",
       "      <td>8.899069</td>\n",
       "      <td>9.596147</td>\n",
       "    </tr>\n",
       "    <tr>\n",
       "      <th>9</th>\n",
       "      <td>4.203628</td>\n",
       "      <td>10.037271</td>\n",
       "      <td>-0.900931</td>\n",
       "      <td>-0.703603</td>\n",
       "      <td>17.670488</td>\n",
       "      <td>0.633898</td>\n",
       "      <td>0.811677</td>\n",
       "      <td>9.432406</td>\n",
       "      <td>0.604865</td>\n",
       "      <td>0.365862</td>\n",
       "      <td>0.345267</td>\n",
       "      <td>9.087139</td>\n",
       "      <td>9.777672</td>\n",
       "    </tr>\n",
       "    <tr>\n",
       "      <th>10</th>\n",
       "      <td>5.113570</td>\n",
       "      <td>9.180400</td>\n",
       "      <td>0.009010</td>\n",
       "      <td>-1.560474</td>\n",
       "      <td>26.148596</td>\n",
       "      <td>-0.014061</td>\n",
       "      <td>0.000081</td>\n",
       "      <td>10.753961</td>\n",
       "      <td>-1.573561</td>\n",
       "      <td>2.476093</td>\n",
       "      <td>0.334220</td>\n",
       "      <td>10.419741</td>\n",
       "      <td>11.088180</td>\n",
       "    </tr>\n",
       "    <tr>\n",
       "      <th>11</th>\n",
       "      <td>5.162273</td>\n",
       "      <td>10.689542</td>\n",
       "      <td>0.057714</td>\n",
       "      <td>-0.051332</td>\n",
       "      <td>26.649061</td>\n",
       "      <td>-0.002963</td>\n",
       "      <td>0.003331</td>\n",
       "      <td>10.824695</td>\n",
       "      <td>-0.135152</td>\n",
       "      <td>0.018266</td>\n",
       "      <td>0.334265</td>\n",
       "      <td>10.490430</td>\n",
       "      <td>11.158959</td>\n",
       "    </tr>\n",
       "    <tr>\n",
       "      <th>12</th>\n",
       "      <td>6.035550</td>\n",
       "      <td>10.977626</td>\n",
       "      <td>0.930991</td>\n",
       "      <td>0.236752</td>\n",
       "      <td>36.427865</td>\n",
       "      <td>0.220414</td>\n",
       "      <td>0.866744</td>\n",
       "      <td>12.093000</td>\n",
       "      <td>-1.115374</td>\n",
       "      <td>1.244059</td>\n",
       "      <td>0.346004</td>\n",
       "      <td>11.746996</td>\n",
       "      <td>12.439003</td>\n",
       "    </tr>\n",
       "    <tr>\n",
       "      <th>13</th>\n",
       "      <td>7.111231</td>\n",
       "      <td>10.633338</td>\n",
       "      <td>2.006672</td>\n",
       "      <td>-0.107536</td>\n",
       "      <td>50.569608</td>\n",
       "      <td>-0.215790</td>\n",
       "      <td>4.026732</td>\n",
       "      <td>13.655266</td>\n",
       "      <td>-3.021928</td>\n",
       "      <td>9.132052</td>\n",
       "      <td>0.385933</td>\n",
       "      <td>13.269333</td>\n",
       "      <td>14.041200</td>\n",
       "    </tr>\n",
       "    <tr>\n",
       "      <th>14</th>\n",
       "      <td>9.023899</td>\n",
       "      <td>17.764211</td>\n",
       "      <td>3.919340</td>\n",
       "      <td>7.023336</td>\n",
       "      <td>81.430755</td>\n",
       "      <td>27.526842</td>\n",
       "      <td>15.361225</td>\n",
       "      <td>16.433132</td>\n",
       "      <td>1.331079</td>\n",
       "      <td>1.771770</td>\n",
       "      <td>0.503761</td>\n",
       "      <td>15.929371</td>\n",
       "      <td>16.936893</td>\n",
       "    </tr>\n",
       "    <tr>\n",
       "      <th>15</th>\n",
       "      <td>9.664686</td>\n",
       "      <td>17.042313</td>\n",
       "      <td>4.560127</td>\n",
       "      <td>6.301438</td>\n",
       "      <td>93.406157</td>\n",
       "      <td>28.735358</td>\n",
       "      <td>20.794756</td>\n",
       "      <td>17.363780</td>\n",
       "      <td>-0.321467</td>\n",
       "      <td>0.103341</td>\n",
       "      <td>0.551388</td>\n",
       "      <td>16.812391</td>\n",
       "      <td>17.915168</td>\n",
       "    </tr>\n",
       "    <tr>\n",
       "      <th>16</th>\n",
       "      <td>9.666973</td>\n",
       "      <td>17.323164</td>\n",
       "      <td>4.562413</td>\n",
       "      <td>6.582290</td>\n",
       "      <td>93.450360</td>\n",
       "      <td>30.031127</td>\n",
       "      <td>20.815615</td>\n",
       "      <td>17.367101</td>\n",
       "      <td>-0.043936</td>\n",
       "      <td>0.001930</td>\n",
       "      <td>0.551563</td>\n",
       "      <td>16.815537</td>\n",
       "      <td>17.918664</td>\n",
       "    </tr>\n",
       "    <tr>\n",
       "      <th>17</th>\n",
       "      <td>9.773495</td>\n",
       "      <td>18.446422</td>\n",
       "      <td>4.668935</td>\n",
       "      <td>7.705548</td>\n",
       "      <td>95.521199</td>\n",
       "      <td>35.976706</td>\n",
       "      <td>21.798958</td>\n",
       "      <td>17.521808</td>\n",
       "      <td>0.924614</td>\n",
       "      <td>0.854912</td>\n",
       "      <td>0.559747</td>\n",
       "      <td>16.962061</td>\n",
       "      <td>18.081555</td>\n",
       "    </tr>\n",
       "    <tr>\n",
       "      <th>18</th>\n",
       "      <td>9.801220</td>\n",
       "      <td>19.163966</td>\n",
       "      <td>4.696661</td>\n",
       "      <td>8.423091</td>\n",
       "      <td>96.063914</td>\n",
       "      <td>39.560403</td>\n",
       "      <td>22.058622</td>\n",
       "      <td>17.562075</td>\n",
       "      <td>1.601891</td>\n",
       "      <td>2.566054</td>\n",
       "      <td>0.561888</td>\n",
       "      <td>17.000187</td>\n",
       "      <td>18.123963</td>\n",
       "    </tr>\n",
       "    <tr>\n",
       "      <th>19</th>\n",
       "      <td>9.895569</td>\n",
       "      <td>17.829588</td>\n",
       "      <td>4.791010</td>\n",
       "      <td>7.088713</td>\n",
       "      <td>97.922287</td>\n",
       "      <td>33.962095</td>\n",
       "      <td>22.953775</td>\n",
       "      <td>17.699103</td>\n",
       "      <td>0.130485</td>\n",
       "      <td>0.017026</td>\n",
       "      <td>0.569208</td>\n",
       "      <td>17.129895</td>\n",
       "      <td>18.268311</td>\n",
       "    </tr>\n",
       "  </tbody>\n",
       "</table>\n",
       "</div>"
      ],
      "text/plain": [
       "           x          y        dx        dy         x2       dxdy        dx2  \\\n",
       "0   0.008785   3.378187 -5.095774 -7.362688   0.000077  37.518591  25.966911   \n",
       "1   0.115240   3.503783 -4.989319 -7.237091   0.013280  36.108159  24.893307   \n",
       "2   0.808211   5.681930 -4.296348 -5.058944   0.653206  21.734983  18.458605   \n",
       "3   1.461673   5.368359 -3.642887 -5.372515   2.136487  19.571463  13.270623   \n",
       "4   1.614802   5.673997 -3.489757 -5.066877   2.607585  17.682173  12.178406   \n",
       "5   2.323838  10.162623 -2.780721 -0.578251   5.400222   1.607955   7.732412   \n",
       "6   2.574891   5.570745 -2.529669 -5.170129   6.630062  13.078713   6.399223   \n",
       "7   3.655265   6.319022 -1.449295 -4.421853  13.360961   6.408567   2.100455   \n",
       "8   4.076388  10.070999 -1.028171 -0.669875  16.616938   0.688746   1.057137   \n",
       "9   4.203628  10.037271 -0.900931 -0.703603  17.670488   0.633898   0.811677   \n",
       "10  5.113570   9.180400  0.009010 -1.560474  26.148596  -0.014061   0.000081   \n",
       "11  5.162273  10.689542  0.057714 -0.051332  26.649061  -0.002963   0.003331   \n",
       "12  6.035550  10.977626  0.930991  0.236752  36.427865   0.220414   0.866744   \n",
       "13  7.111231  10.633338  2.006672 -0.107536  50.569608  -0.215790   4.026732   \n",
       "14  9.023899  17.764211  3.919340  7.023336  81.430755  27.526842  15.361225   \n",
       "15  9.664686  17.042313  4.560127  6.301438  93.406157  28.735358  20.794756   \n",
       "16  9.666973  17.323164  4.562413  6.582290  93.450360  30.031127  20.815615   \n",
       "17  9.773495  18.446422  4.668935  7.705548  95.521199  35.976706  21.798958   \n",
       "18  9.801220  19.163966  4.696661  8.423091  96.063914  39.560403  22.058622   \n",
       "19  9.895569  17.829588  4.791010  7.088713  97.922287  33.962095  22.953775   \n",
       "\n",
       "        y_fit       res       res2  y_err_fit   y_lo_fit   y_hi_fit  \n",
       "0    3.340021  0.038165   0.001457   0.593183   2.746839   3.933204  \n",
       "1    3.494631  0.009152   0.000084   0.584753   2.909878   4.079384  \n",
       "2    4.501069  1.180862   1.394434   0.531434   3.969634   5.032503  \n",
       "3    5.450124 -0.081764   0.006685   0.484190   4.965934   5.934313  \n",
       "4    5.672521  0.001476   0.000002   0.473643   5.198878   6.146165  \n",
       "5    6.702290  3.460333  11.973904   0.428040   6.274251   7.130330  \n",
       "6    7.066907 -1.496162   2.238501   0.413385   6.653522   7.480292  \n",
       "7    8.635990 -2.316968   5.368341   0.362117   8.273873   8.998107  \n",
       "8    9.247608  0.823391   0.677973   0.348539   8.899069   9.596147  \n",
       "9    9.432406  0.604865   0.365862   0.345267   9.087139   9.777672  \n",
       "10  10.753961 -1.573561   2.476093   0.334220  10.419741  11.088180  \n",
       "11  10.824695 -0.135152   0.018266   0.334265  10.490430  11.158959  \n",
       "12  12.093000 -1.115374   1.244059   0.346004  11.746996  12.439003  \n",
       "13  13.655266 -3.021928   9.132052   0.385933  13.269333  14.041200  \n",
       "14  16.433132  1.331079   1.771770   0.503761  15.929371  16.936893  \n",
       "15  17.363780 -0.321467   0.103341   0.551388  16.812391  17.915168  \n",
       "16  17.367101 -0.043936   0.001930   0.551563  16.815537  17.918664  \n",
       "17  17.521808  0.924614   0.854912   0.559747  16.962061  18.081555  \n",
       "18  17.562075  1.601891   2.566054   0.561888  17.000187  18.123963  \n",
       "19  17.699103  0.130485   0.017026   0.569208  17.129895  18.268311  "
      ]
     },
     "execution_count": 13,
     "metadata": {},
     "output_type": "execute_result"
    }
   ],
   "source": [
    "df = pd.DataFrame({'x': x, 'y':y, 'dx': dx, 'dy': dy, 'x2': x2, 'dxdy': dxdy, 'dx2': dx2,\n",
    "    'y_fit': y_fit, 'res': res, 'res2': res2,\n",
    "    'y_err_fit': y_err_fit, 'y_lo_fit': y_lo_fit, 'y_hi_fit': y_hi_fit})\n",
    "df.to_csv('output/linear_regression.csv')\n",
    "df"
   ]
  }
 ],
 "metadata": {
  "kernelspec": {
   "display_name": "Python 3",
   "language": "python",
   "name": "python3"
  },
  "language_info": {
   "codemirror_mode": {
    "name": "ipython",
    "version": 3
   },
   "file_extension": ".py",
   "mimetype": "text/x-python",
   "name": "python",
   "nbconvert_exporter": "python",
   "pygments_lexer": "ipython3",
   "version": "3.7.3"
  }
 },
 "nbformat": 4,
 "nbformat_minor": 4
}
